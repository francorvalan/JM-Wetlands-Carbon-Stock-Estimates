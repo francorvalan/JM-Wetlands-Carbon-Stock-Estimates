{
 "cells": [
  {
   "cell_type": "code",
   "execution_count": 61,
   "metadata": {},
   "outputs": [],
   "source": [
    "from osgeo import gdal\n",
    "import glob\n",
    "import rasterio as rio \n",
    "from rasterio.merge import merge\n",
    "import os\n",
    "import numpy as np\n",
    "import matplotlib.pyplot as plt"
   ]
  },
  {
   "cell_type": "markdown",
   "metadata": {},
   "source": [
    "## Mosaico"
   ]
  },
  {
   "cell_type": "code",
   "execution_count": 92,
   "metadata": {},
   "outputs": [],
   "source": [
    "def mean_mosaic(rasterio_src_list):\n",
    "    mosaic_n, out_trans = merge(rasterio_src_list,method='count')\n",
    "    mosaic_sum, out_trans = merge(rasterio_src_list,method='sum')\n",
    "    mosaico = mosaic_sum/mosaic_n\n",
    "    return(mosaico,out_trans)"
   ]
  },
  {
   "cell_type": "code",
   "execution_count": 86,
   "metadata": {},
   "outputs": [],
   "source": [
    "PS_Enero = glob.glob(os.path.join(\"../../02_Data/02_Covs/PS_Images/20240125/\", '*.tif'),recursive=False)\n",
    "PS_Enero = [i for i in (PS_Enero) if \"_8b\" in i]\n",
    "\n",
    "PS_Abril = glob.glob(os.path.join(\"../../02_Data/02_Covs/PS_Images/20240424/\", '*.tif'),recursive=False)\n",
    "PS_Abril = [i for i in (PS_Abril) if \"_8b\" in i]"
   ]
  },
  {
   "cell_type": "code",
   "execution_count": 94,
   "metadata": {},
   "outputs": [
    {
     "name": "stderr",
     "output_type": "stream",
     "text": [
      "C:\\Users\\francisco.corvalan\\AppData\\Local\\Temp\\ipykernel_5080\\2617894975.py:4: RuntimeWarning: invalid value encountered in divide\n",
      "  mosaico = mosaic_sum/mosaic_n\n"
     ]
    }
   ],
   "source": [
    "PS_Enero_src=list(rio.open(i) for i in PS_Enero)\n",
    "PS_Enero_mosaic, out_trans = mean_mosaic(PS_Enero_src)"
   ]
  },
  {
   "cell_type": "code",
   "execution_count": 93,
   "metadata": {},
   "outputs": [
    {
     "name": "stderr",
     "output_type": "stream",
     "text": [
      "C:\\Users\\francisco.corvalan\\AppData\\Local\\Temp\\ipykernel_5080\\2617894975.py:4: RuntimeWarning: invalid value encountered in divide\n",
      "  mosaico = mosaic_sum/mosaic_n\n"
     ]
    }
   ],
   "source": [
    "PS_Abril_src = list(rio.open(i) for i in PS_Abril)\n",
    "PS_Abril_mosaic, out_trans = mean_mosaic(PS_Abril_src)"
   ]
  },
  {
   "cell_type": "code",
   "execution_count": 95,
   "metadata": {},
   "outputs": [],
   "source": [
    "def write_rio(nd_array,scr_model,output_file_dir):\n",
    "    # Copy the metadata\n",
    "    out_meta = scr_model.meta.copy()\n",
    "    # Update the metadata\n",
    "    out_meta.update({\"driver\": \"GTiff\",\n",
    "                    \"height\": nd_array.shape[1],\n",
    "                    \"width\": nd_array.shape[2],\n",
    "                    \"transform\": out_trans,\n",
    "                    'dtype':'float32',\n",
    "                    'nodata': -9999 ,\n",
    "                    \"compress\": \"lzw\"\n",
    "                    }\n",
    "                    )\n",
    "    with rio.open(output_file_dir, \"w\", **out_meta) as dest:\n",
    "        dest.write(nd_array)\n",
    "        dest.descriptions = scr_model.descriptions\n"
   ]
  },
  {
   "cell_type": "code",
   "execution_count": null,
   "metadata": {},
   "outputs": [],
   "source": [
    "write_rio(nd_array=PS_Enero_mosaic,\n",
    "          scr_model=PS_Enero_src[0],\n",
    "          output_file_dir=\"../../02_Data/02_Covs/PS_Images/PS_enero.tif\")\n",
    "\n",
    "write_rio(nd_array=PS_Abril_mosaic,\n",
    "          scr_model=PS_Abril_src[0],\n",
    "          output_file_dir=\"../../02_Data/02_Covs/PS_Images/PS_abril.tif\")"
   ]
  },
  {
   "cell_type": "markdown",
   "metadata": {},
   "source": [
    "## Cálculo de indices espectrales Planet Scope"
   ]
  },
  {
   "cell_type": "markdown",
   "metadata": {},
   "source": [
    "\\begin{equation}\n",
    "\\text{BNDVI} = \\frac{(NIR - Blue)}{(NIR + Blue)}\n",
    "\\end{equation}\n",
    "\n",
    "\\begin{equation}\n",
    "\\text{CI-Green} = \\frac{NIR}{Green} - 1\n",
    "\\end{equation}\n",
    "\n",
    "\\begin{equation}\n",
    "\\text{CI-Red} = \\frac{NIR}{Red} - 1\n",
    "\\end{equation}\n",
    "\n",
    "\\begin{equation}\n",
    "\\text{CI-Red-EDGE} = \\frac{NIR}{RedEdge} - 1\n",
    "\\end{equation}\n",
    "\n",
    "\\begin{equation}\n",
    "\\text{CV1} = \\frac{NIR}{Green} \\times \\left(\\frac{Green}{Red}\\right)\n",
    "\\end{equation}\n",
    "\n",
    "\\begin{equation}\n",
    "\\text{DVI} = NIR - Red\n",
    "\\end{equation}\n",
    "\n",
    "\\begin{equation}\n",
    "\\text{DVI-Green} = NIR - Green\n",
    "\\end{equation}\n",
    "\n",
    "\\begin{equation}\n",
    "\\text{DVI-REG} = NIR - RedEdge\n",
    "\\end{equation}\n",
    "\n",
    "\\begin{equation}\n",
    "\\text{EVI} = 2.5 \\times \\frac{(NIR - Red)}{(1 + NIR + 2.4 \\times Red)}\n",
    "\\end{equation}\n",
    "\n",
    "\\begin{equation}\n",
    "\\text{EVI2} = 2.5 \\times \\frac{(NIR - Red)}{(1 + NIR + 2.4 \\times Red + 1)}\n",
    "\\end{equation}\n",
    "\n",
    "\\begin{equation}\n",
    "\\text{GARI} = \\frac{(NIR - Green) - 1.7204 \\times (NIR + Red + Blue)}{(NIR - Green) + 1.7204 \\times (NIR + Red + Blue)}\n",
    "\\end{equation}\n",
    "\n",
    "\\begin{equation}\n",
    "\\text{GOSAVI} = \\frac{(NIR - Green)}{(NIR + Green + 0.16)}\n",
    "\\end{equation}\n",
    "\n",
    "\\begin{equation}\n",
    "\\text{GOSAVI-Green} = \\frac{(Green - Red)}{(Green + Red + 0.16)}\n",
    "\\end{equation}\n",
    "\n",
    "\\begin{equation}\n",
    "\\text{LCI} = \\frac{(NIR - RedEdge)}{(NIR + Red)}\n",
    "\\end{equation}\n",
    "\n",
    "\\begin{equation}\n",
    "\\text{MCARI} = \\frac{[(RedEdge - Red) - 0.2 \\times (RedEdge - Green)] \\times (RedEdge / Red)}{[(NIR / RedEdge) - 1] / (NIR / Red)}\n",
    "\\end{equation}\n",
    "\n",
    "\\begin{equation}\n",
    "\\text{MCARI2} = 1.2 \\times [2.5 \\times (NIR - Red) - 1.3 \\times (NIR - Green)]\n",
    "\\end{equation}\n",
    "\n",
    "\\begin{equation}\n",
    "\\text{MNLI} = \\frac{(1.5 \\times NIR^2 - 1.5 \\times Green)}{(NIR^2 + Red + 0.5)}\n",
    "\\end{equation}\n",
    "\n",
    "\\begin{equation}\n",
    "\\text{MSR} = \\frac{(NIR/Red) - 1}{\\sqrt{NIR/Red} + 1}\n",
    "\\end{equation}\n",
    "\n",
    "\\begin{equation}\n",
    "\\text{MSR-REG} = \\frac{[(NIR/RedEdge) - 1]}{\\sqrt{NIR/RedEdge} + 1}\n",
    "\\end{equation}\n",
    "\n",
    "\\begin{equation}\n",
    "\\text{MTCI} = \\frac{(NIR - Red)}{(NIR - RedEdge)}\n",
    "\\end{equation}\n",
    "\n",
    "\\begin{equation}\n",
    "\\text{NDRE} = \\frac{(NIR - RedEdge)}{(NIR + RedEdge)}\n",
    "\\end{equation}\n",
    "\n",
    "\\begin{equation}\n",
    "\\text{NDVI} = \\frac{(NIR - Red)}{(NIR + Red)}\n",
    "\\end{equation}\n",
    "\n",
    "\\begin{equation}\n",
    "\\text{NAVI} = 1 - \\frac{Red}{NIR}\n",
    "\\end{equation}\n",
    "\n",
    "\\begin{equation}\n",
    "\\text{OSAVI} = \\frac{(NIR - Red)}{(NIR + Red + 0.16)}\n",
    "\\end{equation}\n",
    "\n",
    "\\begin{equation}\n",
    "\\text{OSAVI-Green} = \\frac{1.6 \\times (NIR - Green)}{(NIR + Green + 0.16)}\n",
    "\\end{equation}\n",
    "\n",
    "\\begin{equation}\n",
    "\\text{OSAVI-REG} = 1.6 \\times \\frac{(NIR - RedEdge)}{(NIR + RedEdge + 0.16)}\n",
    "\\end{equation}\n",
    "\n",
    "\\begin{equation}\n",
    "\\text{RDVI-REG} = \\frac{(RedEdge - Red)}{(NIR + RedEdge)}\n",
    "\\end{equation}\n",
    "\n",
    "\\begin{equation}\n",
    "\\text{RGBVI} = \\frac{(Green^2 - Blue \\times Red)}{(Green^2 + Blue \\times Red)}\n",
    "\\end{equation}\n",
    "\n",
    "\\begin{equation}\n",
    "\\text{RGRVI} = 100 \\times \\frac{(NIR/Red)}{(NIR/Red + 1)}\n",
    "\\end{equation}\n",
    "\n",
    "\\begin{equation}\n",
    "\\text{RVI} = \\frac{NIR}{Red}\n",
    "\\end{equation}\n",
    "\n",
    "\\begin{equation}\n",
    "\\text{SAVI} = 1.5 \\times \\frac{(NIR - Red)}{(NIR + Red + 0.5)}\n",
    "\\end{equation}\n",
    "\n",
    "\\begin{equation}\n",
    "\\text{SAVI-Green} = 1.5 \\times \\frac{(NIR - Green)}{(NIR + Green + 0.5)}\n",
    "\\end{equation}\n",
    "\n",
    "\\begin{equation}\n",
    "\\text{S-CCI} = NDRI \\times NDVI\n",
    "\\end{equation}\n",
    "\n",
    "\\begin{equation}\n",
    "\\text{SR-REG} = \\frac{NIR}{RedEdge}\n",
    "\\end{equation}\n",
    "\n",
    "\\begin{equation}\n",
    "\\text{TCARI} = 3 \\times \\frac{(RedEdge - Green)}{RedEdge-Red}\n",
    "\\end{equation}\n",
    "\n",
    "\\begin{equation}\n",
    "\\text{TCARI/OSAVI} = \\frac{TCARI}{OSAVI}\n",
    "\\end{equation}\n",
    "\n",
    "\\begin{equation}\n",
    "\\text{TVI} = 120 \\times \\frac{(NIR - Green) - (NIR - Green)}{(2)}\n",
    "\\end{equation}\n",
    "\n",
    "\\begin{equation}\n",
    "\\text{VARI} = \\frac{(Green - Red)}{(Green + Red - Blue)}\n",
    "\\end{equation}\n",
    "\n",
    "\\begin{equation}\n",
    "\\text{WDVI} = 0.2 \\times \\frac{NIR - Red}{0.2 \\times NIR + Red}\n",
    "\\end{equation}"
   ]
  },
  {
   "cell_type": "code",
   "execution_count": 1,
   "metadata": {},
   "outputs": [],
   "source": [
    "%reset # Elimino variables del mosaico y libero espacio\n",
    "from osgeo import gdal\n",
    "import glob\n",
    "import rasterio as rio \n",
    "from rasterio.merge import merge\n",
    "import os\n",
    "import numpy as np\n",
    "import matplotlib.pyplot as plt"
   ]
  },
  {
   "cell_type": "code",
   "execution_count": 2,
   "metadata": {},
   "outputs": [],
   "source": [
    "archivos_tif = glob.glob(os.path.join(\"../../02_Data/02_Covs/\", '*', '*.tif'),recursive=False)\n",
    "abril = [i for i in archivos_tif if \"abril\" in i]\n",
    "abril =[i.replace(\"\\\\\",\"/\") for i in abril] \n",
    "enero = [i for i in archivos_tif if \"enero\" in i]\n",
    "enero_src= rio.open(enero[0])\n",
    "abril_src= rio.open(abril[0])"
   ]
  },
  {
   "cell_type": "code",
   "execution_count": 26,
   "metadata": {},
   "outputs": [],
   "source": [
    "def PS_index(rio_src,factor=None):\n",
    "    ''''\n",
    "    array = numpy.ndarray (src.read())\n",
    "    band_names= list(src.descriptions)\n",
    "    '''\n",
    "    array = rio_src.read()\n",
    "    band_names = rio_src.descriptions\n",
    "    Red = array[[i for i,name in enumerate(band_names) if name in [\"red\"]],:,:]\n",
    "    Green = array[[i for i,name in enumerate(band_names) if name in [\"green\"]],:,:]\n",
    "    Blue = array[[i for i,name in enumerate(band_names) if name in [\"blue\"]],:,:]\n",
    "    RedEdge = array[[i for i,name in enumerate(band_names) if name in [\"rededge\"]],:,:] # con  in [\"rededge\"] T en red y rededge!!\n",
    "    NIR = array[[i for i,name in enumerate(band_names) if name in [\"nir\"]],:,:]\n",
    "  \n",
    "    EVI\t= 2.5*((NIR-Red)/(NIR+6*Red-7.5*Blue +1))\n",
    "    BNDVI = (NIR-Blue)/(NIR+Blue) \n",
    "    GARI  = (NIR-(Green-1.7*(Blue-Red)))/ (NIR+(Green-1.7*(Blue-Red))) \n",
    "    GRVI  =(Green-Red)/(Green+Red)\n",
    "    LCI = (NIR- RedEdge)/(NIR-Red) #---CHEQUEAR\n",
    "    MCARI =((RedEdge-Red)- 0.2*(RedEdge-Green))*(RedEdge/Red) #---CHEQUEAR\n",
    "    MCARI1  =1.2*(2.5*(NIR-Red)-1.3*(NIR-Green)) #---CHEQUEAR\n",
    "    NDRE  = (NIR-RedEdge)/(NIR+RedEdge)\n",
    "    NDREI =(RedEdge-Green)/(RedEdge+Green)\n",
    "  # NAVI= 1 - (Red/NIR)\n",
    "    NDVI=(NIR-Red)/(NIR+Red)\n",
    "    OSAVI=1.6*((NIR-Red)/(NIR+Red+0.16))\n",
    "    RGBVI=(Green**2-Blue*Red)/(Green**2 + Blue*Red)\n",
    "    RTVI_CORE=100*(NIR - RedEdge)-10*(NIR-Green) #---CHEQUEAR\n",
    "    SAVI =(1.5*(NIR-Red))/(NIR+Red+0.5)\n",
    "    SAVI_GREEN = 1.5*(NIR-Green)/(NIR+Green+0.5)\n",
    "    VARI=(Green-Red)/(Green+Red-Blue) #---CHEQUEAR\n",
    "\n",
    "    Index_names =[\"EVI\",\"BNDVI\",\"GARI\",\"GRVI\",\"LCI\",\"MCARI\",\"MCARI1\",\"NDRE\",\"NDREI\",\"NDVI\",\"OSAVI\",\"RGBVI\",\"RTVI_CORE\",\"SAVI\",\"SAVI_GREEN\",\"VARI\"]\n",
    "    Index =[EVI,BNDVI,GARI,GRVI,LCI,MCARI,MCARI1,NDRE,NDREI,NDVI,OSAVI,RGBVI,RTVI_CORE,SAVI,SAVI_GREEN,VARI] # \n",
    "    Index =np.vstack(Index)\n",
    "    if factor is not None :\n",
    "       Index = Index * factor\n",
    "    \n",
    "    return(Index,Index_names)\n",
    "\n",
    "def write_rio_index(nd_array,scr_model,output_file_dir,names=None,dtype=None):\n",
    "    # Copio los metadatos\n",
    "    out_meta = scr_model.meta.copy()\n",
    "    # “int16”, “int32”, “uint8”, “uint16”, “uint32”, “float32”, and “float64”.\n",
    "    if dtype is None: names='float32'\n",
    "    if dtype is 'int32': \n",
    "        nodata= -2147483648 \n",
    "    else:\n",
    "        nodata=-9999\n",
    "    # Actualizacion de los metadatos\n",
    "    out_meta.update({\n",
    "                    #\"driver\": \"GTiff\",\n",
    "                    #\"height\": nd_array.shape[1],\n",
    "                    #\"width\": nd_array.shape[2],\n",
    "                    #\"transform\": out_trans,\n",
    "                    'dtype':dtype,\n",
    "                    'nodata': nodata,\n",
    "                    \"compress\": \"lzw\",\n",
    "                    \"count\":nd_array.shape[0]\n",
    "                    }\n",
    "                    )\n",
    "    if names is None: names=scr_model.descriptions\n",
    "    with rio.open(output_file_dir, \"w\", **out_meta) as dest:\n",
    "        dest.write(nd_array)\n",
    "        dest.descriptions = names"
   ]
  },
  {
   "cell_type": "markdown",
   "metadata": {},
   "source": [
    "### Indices de Enero"
   ]
  },
  {
   "cell_type": "code",
   "execution_count": 28,
   "metadata": {},
   "outputs": [
    {
     "name": "stderr",
     "output_type": "stream",
     "text": [
      "C:\\Users\\francisco.corvalan\\AppData\\Local\\Temp\\ipykernel_73344\\390610616.py:18: RuntimeWarning: divide by zero encountered in divide\n",
      "  LCI =(NIR- RedEdge)/(NIR-Red) #---CHEQUEAR\n"
     ]
    }
   ],
   "source": [
    "\n",
    "Enero_index,Index_names = PS_index(enero_src,factor=1000)"
   ]
  },
  {
   "cell_type": "code",
   "execution_count": 36,
   "metadata": {},
   "outputs": [
    {
     "data": {
      "text/plain": [
       "[np.float32(1582.2072),\n",
       " np.float32(997.07605),\n",
       " np.float32(2561.68),\n",
       " np.float32(86.37874),\n",
       " np.float32(inf),\n",
       " np.float32(8968662.0),\n",
       " np.float32(11801521.0),\n",
       " np.float32(697.5309),\n",
       " np.float32(619.1792),\n",
       " np.float32(831.9823),\n",
       " np.float32(1331.1289),\n",
       " np.float32(994.8082),\n",
       " np.float32(769970000.0),\n",
       " np.float32(1247.8481),\n",
       " np.float32(1257.9811),\n",
       " np.float32(13938.775)]"
      ]
     },
     "execution_count": 36,
     "metadata": {},
     "output_type": "execute_result"
    }
   ],
   "source": [
    "# Chequeo los valores para ver si encuentro algo extraño\n",
    "list(np.nanmax(Enero_index[i,:,:]) for i in range(Enero_index.shape[0]))"
   ]
  },
  {
   "cell_type": "code",
   "execution_count": 34,
   "metadata": {},
   "outputs": [],
   "source": [
    "write_rio_index(nd_array=Enero_index,\n",
    "                scr_model=enero_src,\n",
    "                output_file_dir=\"../../02_Data/02_Covs/PS_Images/PS_enero_indices_int32_factor_1000.tif\",\n",
    "                dtype='int32',\n",
    "                names=tuple(Index_names))"
   ]
  },
  {
   "cell_type": "markdown",
   "metadata": {},
   "source": [
    "### Indices de Abril"
   ]
  },
  {
   "cell_type": "code",
   "execution_count": 35,
   "metadata": {},
   "outputs": [
    {
     "name": "stderr",
     "output_type": "stream",
     "text": [
      "C:\\Users\\francisco.corvalan\\AppData\\Local\\Temp\\ipykernel_73344\\390610616.py:14: RuntimeWarning: divide by zero encountered in divide\n",
      "  EVI\t= 2.5*((NIR-Red)/(NIR+6*Red-7.5*Blue +1))\n",
      "C:\\Users\\francisco.corvalan\\AppData\\Local\\Temp\\ipykernel_73344\\390610616.py:18: RuntimeWarning: divide by zero encountered in divide\n",
      "  LCI =(NIR- RedEdge)/(NIR-Red) #---CHEQUEAR\n",
      "C:\\Users\\francisco.corvalan\\AppData\\Local\\Temp\\ipykernel_73344\\390610616.py:18: RuntimeWarning: invalid value encountered in divide\n",
      "  LCI =(NIR- RedEdge)/(NIR-Red) #---CHEQUEAR\n",
      "C:\\Users\\francisco.corvalan\\AppData\\Local\\Temp\\ipykernel_73344\\390610616.py:30: RuntimeWarning: divide by zero encountered in divide\n",
      "  VARI=(Green-Red)/(Green+Red-Blue) #---CHEQUEAR\n",
      "c:\\Users\\francisco.corvalan\\AppData\\Local\\anaconda3\\envs\\JM_wetlands\\Lib\\site-packages\\numpy\\_core\\_asarray.py:126: RuntimeWarning: invalid value encountered in cast\n",
      "  arr = array(a, dtype=dtype, order=order, copy=None, subok=subok)\n"
     ]
    }
   ],
   "source": [
    "# Cálculo y escritura de indices en abril\n",
    "Abril_index,Index_names = PS_index(abril_src,factor=1000)\n",
    "write_rio_index(nd_array=Abril_index,\n",
    "                scr_model=abril_src,\n",
    "                output_file_dir=\"../../02_Data/02_Covs/PS_Images/PS_abril_indices_int32_factor_1000.tif\",\n",
    "                dtype='int32',\n",
    "                names=tuple(Index_names))\n"
   ]
  }
 ],
 "metadata": {
  "kernelspec": {
   "display_name": "Python 3",
   "language": "python",
   "name": "python3"
  },
  "language_info": {
   "codemirror_mode": {
    "name": "ipython",
    "version": 3
   },
   "file_extension": ".py",
   "mimetype": "text/x-python",
   "name": "python",
   "nbconvert_exporter": "python",
   "pygments_lexer": "ipython3",
   "version": "3.12.2"
  }
 },
 "nbformat": 4,
 "nbformat_minor": 2
}
